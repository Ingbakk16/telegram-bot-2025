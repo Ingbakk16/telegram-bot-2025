{
 "cells": [
  {
   "cell_type": "markdown",
   "id": "8ee820b2",
   "metadata": {},
   "source": [
    "## Bot Telegram"
   ]
  },
  {
   "cell_type": "code",
   "execution_count": 16,
   "id": "dd894e01",
   "metadata": {},
   "outputs": [
    {
     "name": "stdout",
     "output_type": "stream",
     "text": [
      "Requirement already satisfied: pyTelegramBotAPI in /Library/Frameworks/Python.framework/Versions/3.13/lib/python3.13/site-packages (4.28.0)\n",
      "Requirement already satisfied: aiohttp in /Library/Frameworks/Python.framework/Versions/3.13/lib/python3.13/site-packages (from pyTelegramBotAPI) (3.12.15)\n",
      "Requirement already satisfied: pytest in /Library/Frameworks/Python.framework/Versions/3.13/lib/python3.13/site-packages (from pyTelegramBotAPI) (8.4.1)\n",
      "Requirement already satisfied: requests in /Library/Frameworks/Python.framework/Versions/3.13/lib/python3.13/site-packages (from pyTelegramBotAPI) (2.32.4)\n",
      "Requirement already satisfied: wheel in /Library/Frameworks/Python.framework/Versions/3.13/lib/python3.13/site-packages (from pyTelegramBotAPI) (0.45.1)\n",
      "Requirement already satisfied: aiohappyeyeballs>=2.5.0 in /Library/Frameworks/Python.framework/Versions/3.13/lib/python3.13/site-packages (from aiohttp->pyTelegramBotAPI) (2.6.1)\n",
      "Requirement already satisfied: aiosignal>=1.4.0 in /Library/Frameworks/Python.framework/Versions/3.13/lib/python3.13/site-packages (from aiohttp->pyTelegramBotAPI) (1.4.0)\n",
      "Requirement already satisfied: attrs>=17.3.0 in /Library/Frameworks/Python.framework/Versions/3.13/lib/python3.13/site-packages (from aiohttp->pyTelegramBotAPI) (25.3.0)\n",
      "Requirement already satisfied: frozenlist>=1.1.1 in /Library/Frameworks/Python.framework/Versions/3.13/lib/python3.13/site-packages (from aiohttp->pyTelegramBotAPI) (1.7.0)\n",
      "Requirement already satisfied: multidict<7.0,>=4.5 in /Library/Frameworks/Python.framework/Versions/3.13/lib/python3.13/site-packages (from aiohttp->pyTelegramBotAPI) (6.6.4)\n",
      "Requirement already satisfied: propcache>=0.2.0 in /Library/Frameworks/Python.framework/Versions/3.13/lib/python3.13/site-packages (from aiohttp->pyTelegramBotAPI) (0.3.2)\n",
      "Requirement already satisfied: yarl<2.0,>=1.17.0 in /Library/Frameworks/Python.framework/Versions/3.13/lib/python3.13/site-packages (from aiohttp->pyTelegramBotAPI) (1.20.1)\n",
      "Requirement already satisfied: idna>=2.0 in /Library/Frameworks/Python.framework/Versions/3.13/lib/python3.13/site-packages (from yarl<2.0,>=1.17.0->aiohttp->pyTelegramBotAPI) (3.10)\n",
      "Requirement already satisfied: iniconfig>=1 in /Library/Frameworks/Python.framework/Versions/3.13/lib/python3.13/site-packages (from pytest->pyTelegramBotAPI) (2.1.0)\n",
      "Requirement already satisfied: packaging>=20 in /Users/gasparalfonso/Library/Python/3.13/lib/python/site-packages (from pytest->pyTelegramBotAPI) (25.0)\n",
      "Requirement already satisfied: pluggy<2,>=1.5 in /Library/Frameworks/Python.framework/Versions/3.13/lib/python3.13/site-packages (from pytest->pyTelegramBotAPI) (1.6.0)\n",
      "Requirement already satisfied: pygments>=2.7.2 in /Users/gasparalfonso/Library/Python/3.13/lib/python/site-packages (from pytest->pyTelegramBotAPI) (2.19.2)\n",
      "Requirement already satisfied: charset_normalizer<4,>=2 in /Library/Frameworks/Python.framework/Versions/3.13/lib/python3.13/site-packages (from requests->pyTelegramBotAPI) (3.4.3)\n",
      "Requirement already satisfied: urllib3<3,>=1.21.1 in /Library/Frameworks/Python.framework/Versions/3.13/lib/python3.13/site-packages (from requests->pyTelegramBotAPI) (2.5.0)\n",
      "Requirement already satisfied: certifi>=2017.4.17 in /Library/Frameworks/Python.framework/Versions/3.13/lib/python3.13/site-packages (from requests->pyTelegramBotAPI) (2025.8.3)\n",
      "\n",
      "\u001b[1m[\u001b[0m\u001b[34;49mnotice\u001b[0m\u001b[1;39;49m]\u001b[0m\u001b[39;49m A new release of pip is available: \u001b[0m\u001b[31;49m25.1.1\u001b[0m\u001b[39;49m -> \u001b[0m\u001b[32;49m25.2\u001b[0m\n",
      "\u001b[1m[\u001b[0m\u001b[34;49mnotice\u001b[0m\u001b[1;39;49m]\u001b[0m\u001b[39;49m To update, run: \u001b[0m\u001b[32;49mpip3 install --upgrade pip\u001b[0m\n",
      "Note: you may need to restart the kernel to use updated packages.\n"
     ]
    }
   ],
   "source": [
    "pip install pyTelegramBotAPI"
   ]
  },
  {
   "cell_type": "code",
   "execution_count": 17,
   "id": "1c440a5c",
   "metadata": {},
   "outputs": [
    {
     "name": "stdout",
     "output_type": "stream",
     "text": [
      "Requirement already satisfied: pyTelegramBotAPI in /Library/Frameworks/Python.framework/Versions/3.13/lib/python3.13/site-packages (4.28.0)\n",
      "Requirement already satisfied: aiohttp in /Library/Frameworks/Python.framework/Versions/3.13/lib/python3.13/site-packages (from pyTelegramBotAPI) (3.12.15)\n",
      "Requirement already satisfied: pytest in /Library/Frameworks/Python.framework/Versions/3.13/lib/python3.13/site-packages (from pyTelegramBotAPI) (8.4.1)\n",
      "Requirement already satisfied: requests in /Library/Frameworks/Python.framework/Versions/3.13/lib/python3.13/site-packages (from pyTelegramBotAPI) (2.32.4)\n",
      "Requirement already satisfied: wheel in /Library/Frameworks/Python.framework/Versions/3.13/lib/python3.13/site-packages (from pyTelegramBotAPI) (0.45.1)\n",
      "Requirement already satisfied: aiohappyeyeballs>=2.5.0 in /Library/Frameworks/Python.framework/Versions/3.13/lib/python3.13/site-packages (from aiohttp->pyTelegramBotAPI) (2.6.1)\n",
      "Requirement already satisfied: aiosignal>=1.4.0 in /Library/Frameworks/Python.framework/Versions/3.13/lib/python3.13/site-packages (from aiohttp->pyTelegramBotAPI) (1.4.0)\n",
      "Requirement already satisfied: attrs>=17.3.0 in /Library/Frameworks/Python.framework/Versions/3.13/lib/python3.13/site-packages (from aiohttp->pyTelegramBotAPI) (25.3.0)\n",
      "Requirement already satisfied: frozenlist>=1.1.1 in /Library/Frameworks/Python.framework/Versions/3.13/lib/python3.13/site-packages (from aiohttp->pyTelegramBotAPI) (1.7.0)\n",
      "Requirement already satisfied: multidict<7.0,>=4.5 in /Library/Frameworks/Python.framework/Versions/3.13/lib/python3.13/site-packages (from aiohttp->pyTelegramBotAPI) (6.6.4)\n",
      "Requirement already satisfied: propcache>=0.2.0 in /Library/Frameworks/Python.framework/Versions/3.13/lib/python3.13/site-packages (from aiohttp->pyTelegramBotAPI) (0.3.2)\n",
      "Requirement already satisfied: yarl<2.0,>=1.17.0 in /Library/Frameworks/Python.framework/Versions/3.13/lib/python3.13/site-packages (from aiohttp->pyTelegramBotAPI) (1.20.1)\n",
      "Requirement already satisfied: idna>=2.0 in /Library/Frameworks/Python.framework/Versions/3.13/lib/python3.13/site-packages (from yarl<2.0,>=1.17.0->aiohttp->pyTelegramBotAPI) (3.10)\n",
      "Requirement already satisfied: iniconfig>=1 in /Library/Frameworks/Python.framework/Versions/3.13/lib/python3.13/site-packages (from pytest->pyTelegramBotAPI) (2.1.0)\n",
      "Requirement already satisfied: packaging>=20 in /Users/gasparalfonso/Library/Python/3.13/lib/python/site-packages (from pytest->pyTelegramBotAPI) (25.0)\n",
      "Requirement already satisfied: pluggy<2,>=1.5 in /Library/Frameworks/Python.framework/Versions/3.13/lib/python3.13/site-packages (from pytest->pyTelegramBotAPI) (1.6.0)\n",
      "Requirement already satisfied: pygments>=2.7.2 in /Users/gasparalfonso/Library/Python/3.13/lib/python/site-packages (from pytest->pyTelegramBotAPI) (2.19.2)\n",
      "Requirement already satisfied: charset_normalizer<4,>=2 in /Library/Frameworks/Python.framework/Versions/3.13/lib/python3.13/site-packages (from requests->pyTelegramBotAPI) (3.4.3)\n",
      "Requirement already satisfied: urllib3<3,>=1.21.1 in /Library/Frameworks/Python.framework/Versions/3.13/lib/python3.13/site-packages (from requests->pyTelegramBotAPI) (2.5.0)\n",
      "Requirement already satisfied: certifi>=2017.4.17 in /Library/Frameworks/Python.framework/Versions/3.13/lib/python3.13/site-packages (from requests->pyTelegramBotAPI) (2025.8.3)\n",
      "\n",
      "\u001b[1m[\u001b[0m\u001b[34;49mnotice\u001b[0m\u001b[1;39;49m]\u001b[0m\u001b[39;49m A new release of pip is available: \u001b[0m\u001b[31;49m25.1.1\u001b[0m\u001b[39;49m -> \u001b[0m\u001b[32;49m25.2\u001b[0m\n",
      "\u001b[1m[\u001b[0m\u001b[34;49mnotice\u001b[0m\u001b[1;39;49m]\u001b[0m\u001b[39;49m To update, run: \u001b[0m\u001b[32;49mpip3 install --upgrade pip\u001b[0m\n",
      "Note: you may need to restart the kernel to use updated packages.\n"
     ]
    }
   ],
   "source": [
    "pip install pyTelegramBotAPI"
   ]
  },
  {
   "cell_type": "markdown",
   "id": "f7ebb083",
   "metadata": {},
   "source": [
    "## Importación de Paquetes"
   ]
  },
  {
   "cell_type": "code",
   "execution_count": 18,
   "id": "7e055a28",
   "metadata": {},
   "outputs": [],
   "source": [
    "import telebot\n",
    "from dotenv import load_dotenv\n",
    "import os"
   ]
  },
  {
   "cell_type": "code",
   "execution_count": 19,
   "id": "cac16104",
   "metadata": {},
   "outputs": [],
   "source": [
    "from telebot.types import InlineKeyboardMarkup\n",
    "from telebot.types import InlineKeyboardButton"
   ]
  },
  {
   "cell_type": "code",
   "execution_count": 20,
   "id": "3240ac15",
   "metadata": {},
   "outputs": [],
   "source": [
    "### Instanciamos el bot de telegram\n",
    "### el único parámetro obligatorio para instanciarlo es el TOKEN."
   ]
  },
  {
   "cell_type": "code",
   "execution_count": 21,
   "id": "1df5dd20",
   "metadata": {},
   "outputs": [],
   "source": [
    "# importamos nuestro token\n",
    "load_dotenv()\n",
    "TELEGRAM_TOKEN = os.getenv('TELEGRAM_TOKEN')\n",
    "bot_databanda = telebot.TeleBot(TELEGRAM_TOKEN)"
   ]
  },
  {
   "cell_type": "markdown",
   "id": "07cf6d2a",
   "metadata": {},
   "source": [
    "## Responder a menasjes que son comandos (básicos)"
   ]
  },
  {
   "cell_type": "code",
   "execution_count": 22,
   "id": "ff8a1f94",
   "metadata": {},
   "outputs": [
    {
     "name": "stderr",
     "output_type": "stream",
     "text": [
      "2025-08-18 16:27:29,134 (__init__.py:8053 MainThread) ERROR - TeleBot: \"message_handler: Commands filter should be list of strings (commands), unknown type supplied to the 'commands' filter list. Not able to use the supplied type.\"\n"
     ]
    }
   ],
   "source": [
    "# RESPONDER A MENSAJES QUE SON COMANDOS\n",
    "\n",
    "@bot_databanda.message_handler(commands=['start'])\n",
    "def cmd_start(message):\n",
    "    bot_databanda.reply_to(message, \"Hola, soy un bot de finanzas. ¿Cómo puedo ayudarte?\")\n",
    "\n",
    "@bot_databanda.message_handler(commands = {'Fin'})\n",
    "def cmd_fin(message):\n",
    "    bot_databanda.reply_to(message, \"Nos vemos, recuerda que puedes consultar tu saldo o realizar transferencias.\")\n",
    "\n",
    "@bot_databanda.message_handler(commands=['help'])\n",
    "def send_help(message):\n",
    "    bot_databanda.reply_to(message, \"Aquí tienes una lista de comandos que puedes usar:\\n\"\n",
    "                                     \"/start - Iniciar el bot\\n\"\n",
    "                                     \"/help - Mostrar esta ayuda\\n\"\n",
    "                                     \"/balance - Consultar tu saldo\\n\"\n",
    "                                     \"/transfer - Realizar una transferencia\")"
   ]
  },
  {
   "cell_type": "markdown",
   "id": "c1868fc3",
   "metadata": {},
   "source": [
    "## Funciones más complejas (heavys)"
   ]
  },
  {
   "cell_type": "code",
   "execution_count": null,
   "id": "1e26bfbf",
   "metadata": {},
   "outputs": [],
   "source": [
    "#que el usuario pueda consultar su saldo si tiene 0 que pueda agregar en base a transferencia\n",
    "\n",
    "@bot_databanda.message_handler(commands=['transfer'])\n",
    "def cmd_transfer(message):\n",
    "    bot_databanda.reply_to(message, \"Para realizar una transferencia, por favor ingresa el monto a transferir.\")\n",
    "@bot_databanda.message_handler(func=lambda message: message.text.isdigit())\n",
    "def handle_transfer_amount(message):\n",
    "    amount = int(message.text)\n",
    "    if amount <= 0:\n",
    "        bot_databanda.reply_to(message, \"Por favor, ingresa un monto válido mayor a 0.\")\n",
    "        return\n",
    "    bot_databanda.reply_to(message, f\"Has ingresado un monto de ${amount}. ¿Deseas proceder con la transferencia?\")\n",
    "@bot_databanda.message_handler(func=lambda message: True)\n",
    "def handle_text(message):\n",
    "    # Aquí podrías integrar la lógica para manejar mensajes de texto\n",
    "    bot_databanda.reply_to(message, \"Lo siento, no entendí tu mensaje. Por favor, usa uno de los comandos disponibles o ingresa un monto para transferir.\")                             \n",
    "    # Aquí podrías integrar la lógica para manejar la transferencia\n",
    "    # Por ejemplo, podrías pedir al usuario que ingrese el monto y luego procesarlo.\n",
    "    # Esto es solo un ejemplo básico.\n",
    "    markup = InlineKeyboardMarkup()\n",
    "    markup.add(InlineKeyboardButton(\"Transferir\", callback_data=\"transfer\"))\n",
    "    bot_databanda.send_message(message.chat.id, \"¿Quieres realizar una transferencia?\", reply_markup=markup)\n",
    "\n",
    "\n",
    "\n",
    "@bot_databanda.message_handler(commands=['balance'])\n",
    "def send_balance(message):\n",
    "    # Aquí podrías integrar la lógica para consultar el saldo del usuario\n",
    "    bot_databanda.reply_to(message, \"Tu saldo es de $.\")"
   ]
  },
  {
   "cell_type": "code",
   "execution_count": 24,
   "id": "25b9007e",
   "metadata": {},
   "outputs": [],
   "source": [
    "# RESPONDER A MENSAJES QUE SON TEXTO\n",
    "#@bot_databanda.message_handler(content_types=['text'])\n",
    "\n",
    "def bot_mensajes_testo(message):\n",
    "    bot_databanda.reply_to(message.chat.id, \"Me enviaste un mensaje de texto: \" + message)"
   ]
  },
  {
   "cell_type": "code",
   "execution_count": 25,
   "id": "75758d25",
   "metadata": {},
   "outputs": [
    {
     "data": {
      "text/plain": [
       "True"
      ]
     },
     "execution_count": 25,
     "metadata": {},
     "output_type": "execute_result"
    }
   ],
   "source": [
    "# seteand comandos\n",
    "bot_databanda.set_my_commands([\n",
    "    telebot.types.BotCommand(\"/start\", \"Iniciar el bot\"),\n",
    "    telebot.types.BotCommand(\"/help\", \"Mostrar ayuda\"),\n",
    "    telebot.types.BotCommand(\"/balance\", \"Consultar tu saldo\"),\n",
    "    telebot.types.BotCommand(\"/transfer\", \"Realizar una transferencia\"),\n",
    "    telebot.types.BotCommand(\"/fin\", \"Finalizar la conversación\")\n",
    "])"
   ]
  },
  {
   "cell_type": "markdown",
   "id": "8a23f8c8",
   "metadata": {},
   "source": [
    "## Lanzar el programa /bot"
   ]
  },
  {
   "cell_type": "code",
   "execution_count": 26,
   "id": "652343c2",
   "metadata": {},
   "outputs": [
    {
     "name": "stdout",
     "output_type": "stream",
     "text": [
      "Iniciando el bot...\n"
     ]
    },
    {
     "name": "stderr",
     "output_type": "stream",
     "text": [
      "2025-08-18 16:28:05,132 (__init__.py:1121 MainThread) ERROR - TeleBot: \"Infinity polling: polling exited\"\n",
      "2025-08-18 16:28:05,132 (__init__.py:1123 MainThread) ERROR - TeleBot: \"Break infinity polling\"\n"
     ]
    },
    {
     "name": "stdout",
     "output_type": "stream",
     "text": [
      "Fin = Bot Detenido\n"
     ]
    }
   ],
   "source": [
    "if __name__ == \"__main__\":\n",
    "    print(\"Iniciando el bot...\")\n",
    "\n",
    "    # Seteamos los comandos de nuevo ...\n",
    "    bot_databanda.set_my_commands([\n",
    "        telebot.types.BotCommand(\"/start\", \"Iniciar el bot\"),\n",
    "        telebot.types.BotCommand(\"/help\", \"Mostrar ayuda\"),\n",
    "        telebot.types.BotCommand(\"/balance\", \"Consultar tu saldo\"),\n",
    "        telebot.types.BotCommand(\"/transfer\", \"Realizar una transferencia\"),\n",
    "        telebot.types.BotCommand(\"/fin\", \"Finalizar la conversación\")\n",
    "    ])\n",
    "\n",
    "    bot_databanda.infinity_polling() # bucle infinito para recibir mensajes (while true)\n",
    "\n",
    "    print(\"Fin = Bot Detenido\")\n",
    "\n",
    "    "
   ]
  }
 ],
 "metadata": {
  "kernelspec": {
   "display_name": "Python 3",
   "language": "python",
   "name": "python3"
  },
  "language_info": {
   "codemirror_mode": {
    "name": "ipython",
    "version": 3
   },
   "file_extension": ".py",
   "mimetype": "text/x-python",
   "name": "python",
   "nbconvert_exporter": "python",
   "pygments_lexer": "ipython3",
   "version": "3.13.5"
  }
 },
 "nbformat": 4,
 "nbformat_minor": 5
}
