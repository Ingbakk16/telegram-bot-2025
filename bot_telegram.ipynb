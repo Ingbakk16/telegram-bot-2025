{
 "cells": [
  {
   "cell_type": "markdown",
   "id": "8ee820b2",
   "metadata": {},
   "source": [
    "## Bot Telegram"
   ]
  },
  {
   "cell_type": "code",
   "execution_count": 1,
   "id": "dd894e01",
   "metadata": {},
   "outputs": [],
   "source": [
    "#pip install pyTelegramBotAPI"
   ]
  },
  {
   "cell_type": "code",
   "execution_count": 2,
   "id": "1c440a5c",
   "metadata": {},
   "outputs": [
    {
     "name": "stdout",
     "output_type": "stream",
     "text": [
      "Requirement already satisfied: pyTelegramBotAPI in c:\\ciencia-de-datos\\taller2\\telegram_bot\\venv\\lib\\site-packages (4.29.1)\n",
      "Requirement already satisfied: requests in c:\\ciencia-de-datos\\taller2\\telegram_bot\\venv\\lib\\site-packages (from pyTelegramBotAPI) (2.32.5)\n",
      "Requirement already satisfied: charset_normalizer<4,>=2 in c:\\ciencia-de-datos\\taller2\\telegram_bot\\venv\\lib\\site-packages (from requests->pyTelegramBotAPI) (3.4.3)\n",
      "Requirement already satisfied: idna<4,>=2.5 in c:\\ciencia-de-datos\\taller2\\telegram_bot\\venv\\lib\\site-packages (from requests->pyTelegramBotAPI) (3.10)\n",
      "Requirement already satisfied: urllib3<3,>=1.21.1 in c:\\ciencia-de-datos\\taller2\\telegram_bot\\venv\\lib\\site-packages (from requests->pyTelegramBotAPI) (2.5.0)\n",
      "Requirement already satisfied: certifi>=2017.4.17 in c:\\ciencia-de-datos\\taller2\\telegram_bot\\venv\\lib\\site-packages (from requests->pyTelegramBotAPI) (2025.8.3)\n",
      "Note: you may need to restart the kernel to use updated packages.\n"
     ]
    },
    {
     "name": "stderr",
     "output_type": "stream",
     "text": [
      "\n",
      "[notice] A new release of pip is available: 23.1.2 -> 25.2\n",
      "[notice] To update, run: python.exe -m pip install --upgrade pip\n"
     ]
    }
   ],
   "source": [
    "pip install pyTelegramBotAPI"
   ]
  },
  {
   "cell_type": "markdown",
   "id": "f7ebb083",
   "metadata": {},
   "source": [
    "## Importación de Paquetes"
   ]
  },
  {
   "cell_type": "code",
   "execution_count": 3,
   "id": "7e055a28",
   "metadata": {},
   "outputs": [],
   "source": [
    "\n",
    "\n",
    "\n",
    "import telebot\n",
    "from dotenv import load_dotenv\n",
    "import os\n",
    "import requests\n",
    "import yfinance"
   ]
  },
  {
   "cell_type": "code",
   "execution_count": 4,
   "id": "cac16104",
   "metadata": {},
   "outputs": [],
   "source": [
    "from telebot.types import InlineKeyboardMarkup\n",
    "from telebot.types import InlineKeyboardButton"
   ]
  },
  {
   "cell_type": "code",
   "execution_count": 5,
   "id": "4ea9e142",
   "metadata": {},
   "outputs": [],
   "source": [
    "from acciones import create_stocks_markup, get_stock_price, ARGENTINIAN_STOCKS, COMPANY_LOGOS\n"
   ]
  },
  {
   "cell_type": "code",
   "execution_count": 6,
   "id": "3240ac15",
   "metadata": {},
   "outputs": [],
   "source": [
    "### Instanciamos el bot de telegram\n",
    "### el único parámetro obligatorio para instanciarlo es el TOKEN."
   ]
  },
  {
   "cell_type": "code",
   "execution_count": 7,
   "id": "1df5dd20",
   "metadata": {},
   "outputs": [],
   "source": [
    "# importamos nuestro token\n",
    "load_dotenv()\n",
    "TELEGRAM_TOKEN = os.getenv('TELEGRAM_TOKEN')\n",
    "bot_databanda = telebot.TeleBot(TELEGRAM_TOKEN)"
   ]
  },
  {
   "cell_type": "markdown",
   "id": "07cf6d2a",
   "metadata": {},
   "source": [
    "## Responder a menasjes que son comandos (básicos)"
   ]
  },
  {
   "cell_type": "code",
   "execution_count": 8,
   "id": "ff8a1f94",
   "metadata": {},
   "outputs": [],
   "source": [
    "# RESPONDER A MENSAJES QUE SON COMANDOS\n",
    "\n",
    "@bot_databanda.message_handler(commands=['start'])\n",
    "def cmd_start(message):\n",
    "    bot_databanda.reply_to(message, \"Hola, soy un bot de finanzas. ¿Cómo puedo ayudarte?\")\n",
    "\n",
    "@bot_databanda.message_handler(commands=['fin'])\n",
    "def cmd_fin(message):\n",
    "    bot_databanda.reply_to(message, \"Nos vemos, recuerda que puedes consultar tu saldo o realizar transferencias.\")\n",
    "\n",
    "@bot_databanda.message_handler(commands=['help'])\n",
    "def send_help(message):\n",
    "    bot_databanda.reply_to(message, \"Aquí tienes una lista de comandos que puedes usar:\\n\"\n",
    "                                     \"/start - Iniciar el bot\\n\"\n",
    "                                     \"/help - Mostrar esta ayuda\\n\"\n",
    "                                     \"/balance - Consultar tu saldo\\n\"\n",
    "                                     \"/ingresar - Ingresar monto\\n\"\n",
    "                                     \"/gasto - Registrar un gasto\\n\"\n",
    "                                     \"/cotizaciones - Consultar cotizaciones\\n\")\n",
    "                                     "
   ]
  },
  {
   "cell_type": "markdown",
   "id": "c1868fc3",
   "metadata": {},
   "source": [
    "## Funciones más complejas (heavys)"
   ]
  },
  {
   "cell_type": "code",
   "execution_count": 9,
   "id": "1e26bfbf",
   "metadata": {},
   "outputs": [],
   "source": [
    "#que el usuario pueda consultar su saldo si tiene 0 que pueda agregar en base a transferencia\n",
    "\n",
    "# Diccionario para guardar el saldo de cada usuario\n",
    "user_saldos = {}\n",
    "from telebot import types  # Asegúrate de tener esto arriba\n",
    "\n",
    "\n",
    "@bot_databanda.message_handler(commands=['gasto'])\n",
    "def cmd_gasto(message):\n",
    "    bot_databanda.reply_to(message, \"💸 Ingresa el monto:\")\n",
    "    bot_databanda.register_next_step_handler(message, process_gasto)\n",
    "\n",
    "def process_gasto(message):\n",
    "    try:\n",
    "        amount = int(message.text)\n",
    "        if amount <= 0:\n",
    "            msg = bot_databanda.reply_to(\n",
    "                message,\n",
    "                \"⚠️ El monto debe ser mayor que 0. Por favor, ingresa un monto válido:\"\n",
    "            )\n",
    "            bot_databanda.register_next_step_handler(msg, process_gasto)\n",
    "            return\n",
    "        \n",
    "        markup = types.ReplyKeyboardMarkup(resize_keyboard=True, one_time_keyboard=True)\n",
    "        markup.add(\"Sí\", \"No\")\n",
    "        msg = bot_databanda.send_message(\n",
    "            message.chat.id,\n",
    "            f\"Has ingresado un monto de ${amount}. ¿Deseas proceder con el ingreso?\",\n",
    "            reply_markup=markup\n",
    "        )\n",
    "        bot_databanda.register_next_step_handler(msg, confirm_gasto, amount)\n",
    "\n",
    "    except ValueError:\n",
    "        msg = bot_databanda.reply_to(\n",
    "            message,\n",
    "            \"❌ Ingresa solo números (ejemplo: 1500). Por favor, intenta de nuevo:\"\n",
    "        )\n",
    "        bot_databanda.register_next_step_handler(msg, process_gasto)\n",
    "\n",
    "def confirm_gasto(message, amount):\n",
    "    respuesta = message.text.strip().lower()\n",
    "    user_id = message.from_user.id\n",
    "    if respuesta in [\"si\", \"sí\"]:\n",
    "        # Sumar el monto al saldo del usuario\n",
    "        user_saldos[user_id] = user_saldos.get(user_id, 1000) - amount\n",
    "        bot_databanda.send_message(message.chat.id, f\"✅ Gasto de ${amount} registrado con éxito.\")\n",
    "    elif respuesta == \"no\":\n",
    "        bot_databanda.send_message(message.chat.id, \"❌ Gasto cancelado.\")\n",
    "    else:\n",
    "        markup = types.ReplyKeyboardMarkup(resize_keyboard=True, one_time_keyboard=True)\n",
    "        markup.add(\"Sí\", \"No\")\n",
    "        msg = bot_databanda.send_message(\n",
    "            message.chat.id,\n",
    "            \"Por favor, responde usando los botones: ¿Deseas proceder con el gasto?\",\n",
    "            reply_markup=markup\n",
    "        )\n",
    "        bot_databanda.register_next_step_handler(msg, confirm_gasto, amount)\n",
    "\n",
    "@bot_databanda.message_handler(commands=['ingresar'])\n",
    "def cmd_ingresar(message):\n",
    "    bot_databanda.reply_to(message, \"💸 Ingresa el monto:\")\n",
    "    bot_databanda.register_next_step_handler(message, process_amount)\n",
    "\n",
    "def process_amount(message):\n",
    "    try:\n",
    "        amount = int(message.text)\n",
    "        if amount <= 0:\n",
    "            msg = bot_databanda.reply_to(\n",
    "                message,\n",
    "                \"⚠️ El monto debe ser mayor que 0. Por favor, ingresa un monto válido:\"\n",
    "            )\n",
    "            bot_databanda.register_next_step_handler(msg, process_amount)\n",
    "            return\n",
    "        \n",
    "        markup = types.ReplyKeyboardMarkup(resize_keyboard=True, one_time_keyboard=True)\n",
    "        markup.add(\"Sí\", \"No\")\n",
    "        msg = bot_databanda.send_message(\n",
    "            message.chat.id,\n",
    "            f\"Has ingresado un monto de ${amount}. ¿Deseas proceder con el ingreso?\",\n",
    "            reply_markup=markup\n",
    "        )\n",
    "        bot_databanda.register_next_step_handler(msg, confirm_ingreso, amount)\n",
    "\n",
    "    except ValueError:\n",
    "        msg = bot_databanda.reply_to(\n",
    "            message,\n",
    "            \"❌ Ingresa solo números (ejemplo: 1500). Por favor, intenta de nuevo:\"\n",
    "        )\n",
    "        bot_databanda.register_next_step_handler(msg, process_amount)\n",
    "\n",
    "def confirm_ingreso(message, amount):\n",
    "    respuesta = message.text.strip().lower()\n",
    "    user_id = message.from_user.id\n",
    "    if respuesta in [\"si\", \"sí\"]:\n",
    "        # Sumar el monto al saldo del usuario\n",
    "        user_saldos[user_id] = user_saldos.get(user_id, 1000) + amount\n",
    "        bot_databanda.send_message(message.chat.id, f\"✅ Ingreso de ${amount} realizada con éxito.\")\n",
    "    elif respuesta == \"no\":\n",
    "        bot_databanda.send_message(message.chat.id, \"❌ Ingreso cancelado.\")\n",
    "    else:\n",
    "        markup = types.ReplyKeyboardMarkup(resize_keyboard=True, one_time_keyboard=True)\n",
    "        markup.add(\"Sí\", \"No\")\n",
    "        msg = bot_databanda.send_message(\n",
    "            message.chat.id,\n",
    "            \"Por favor, responde usando los botones: ¿Deseas proceder con el ingreso?\",\n",
    "            reply_markup=markup\n",
    "        )\n",
    "        bot_databanda.register_next_step_handler(msg, confirm_ingreso, amount)\n",
    "\n",
    "@bot_databanda.message_handler(commands=['balance'])\n",
    "def send_balance(message):\n",
    "    user_id = message.from_user.id\n",
    "    saldo = user_saldos.get(user_id, 1000)  # Saldo inicial por defecto\n",
    "    bot_databanda.reply_to(message, f\"Tu saldo es de ${saldo}\")"
   ]
  },
  {
   "cell_type": "code",
   "execution_count": 10,
   "id": "25b9007e",
   "metadata": {},
   "outputs": [],
   "source": [
    "# RESPONDER A MENSAJES QUE SON TEXTO\n",
    "#@bot_databanda.message_handler(content_types=['text'])\n",
    "\n",
    "def bot_mensajes_testo(message):\n",
    "    bot_databanda.reply_to(message.chat.id, \"Me enviaste un mensaje de texto: \" + message)\n"
   ]
  },
  {
   "cell_type": "code",
   "execution_count": 11,
   "id": "75758d25",
   "metadata": {},
   "outputs": [
    {
     "data": {
      "text/plain": [
       "True"
      ]
     },
     "execution_count": 11,
     "metadata": {},
     "output_type": "execute_result"
    }
   ],
   "source": [
    "# seteand comandos\n",
    "bot_databanda.set_my_commands([\n",
    "    telebot.types.BotCommand(\"/start\", \"Iniciar el bot\"),\n",
    "    telebot.types.BotCommand(\"/help\", \"Mostrar ayuda\"),\n",
    "    telebot.types.BotCommand(\"/balance\", \"Consultar tu saldo\"),\n",
    "    telebot.types.BotCommand(\"/ingresar\", \"Realizar un ingreso\"),\n",
    "    telebot.types.BotCommand(\"/gasto\", \"Registrar un gasto\"),\n",
    "    telebot.types.BotCommand(\"/cotizacion\", \"Consultar cotizaciones\"),\n",
    "    telebot.types.BotCommand(\"/acciones\", \"Consultar acciones\"),\n",
    "    telebot.types.BotCommand(\"/fin\", \"Finalizar la conversación\")\n",
    "])"
   ]
  },
  {
   "cell_type": "markdown",
   "id": "5b3ef0ea",
   "metadata": {},
   "source": [
    "## OBTENER COTIZACIÓN DÓLAR"
   ]
  },
  {
   "cell_type": "code",
   "execution_count": 12,
   "id": "ee48ae8b",
   "metadata": {},
   "outputs": [],
   "source": [
    "@bot_databanda.message_handler(commands=['cotizaciones'])\n",
    "def cmd_cotizaciones(message):\n",
    "    markup = InlineKeyboardMarkup()\n",
    "    # Botones para cada moneda\n",
    "    botones = [\n",
    "        InlineKeyboardButton(\"💵 Dólar Oficial\", callback_data=\"oficial\"),\n",
    "        InlineKeyboardButton(\"🔵 Dólar Blue\", callback_data=\"blue\"),\n",
    "        InlineKeyboardButton(\"📈 Dólar MEP\", callback_data=\"mep\"),\n",
    "        InlineKeyboardButton(\"💶 Euro\", callback_data=\"euro\"),\n",
    "        InlineKeyboardButton(\"🇧🇷 Real\", callback_data=\"real\")\n",
    "    ]\n",
    "    for b in botones:\n",
    "        markup.add(b)\n",
    "    bot_databanda.send_message(message.chat.id, \"Selecciona la cotización que quieras ver:\", reply_markup=markup)\n",
    "\n",
    "# Función para obtener cotización desde la API\n",
    "import requests\n",
    "\n",
    "def get_cotizacion(tipo):\n",
    "    url = \"https://dolarapi.com/v1/dolares\"\n",
    "    try:\n",
    "        r = requests.get(url)\n",
    "        if r.status_code == 200:\n",
    "            data = r.json()\n",
    "            # Buscar la casa de cambio que coincide con el tipo\n",
    "            casa = next((item for item in data if item['casa'].lower() == tipo.lower()), None)\n",
    "            if casa:\n",
    "                return f\"{casa['nombre']} ({casa['moneda']}):\\nCompra: ${casa['compra']} - Venta: ${casa['venta']}\\nÚltima actualización: {casa['fechaActualizacion']}\"\n",
    "            else:\n",
    "                return f\"❌ No se encontró la cotización para '{tipo}'.\"\n",
    "        else:\n",
    "            return \"❌ Error al obtener los datos de la API.\"\n",
    "    except Exception as e:\n",
    "        return f\"❌ Ocurrió un error: {e}\"\n",
    "\n",
    "\n",
    "@bot_databanda.callback_query_handler(func=lambda call: True)\n",
    "def callback_cotizacion(call):\n",
    "    if call.data.startswith(\"stock_\"):\n",
    "        stock_name = call.data.split(\"stock_\")[1]\n",
    "\n",
    "        # Caso \"Todas las acciones\"\n",
    "        if stock_name == \"all\":\n",
    "            message_text = \"📊 *Cotizaciones de todas las acciones:*\\n\\n\"\n",
    "            for name, ticker_symbol in ARGENTINIAN_STOCKS.items():\n",
    "                message_text += get_stock_price(ticker_symbol) + \"\\n\"\n",
    "\n",
    "            bot_databanda.send_message(\n",
    "                chat_id=call.message.chat.id,\n",
    "                text=message_text,\n",
    "                parse_mode='Markdown'\n",
    "            )\n",
    "        else:\n",
    "            ticker_symbol = ARGENTINIAN_STOCKS.get(stock_name)\n",
    "            if ticker_symbol:\n",
    "                message_text = get_stock_price(ticker_symbol)\n",
    "                logo_url = COMPANY_LOGOS.get(stock_name)\n",
    "\n",
    "                if logo_url:\n",
    "                    with open(logo_url, \"rb\") as photo:\n",
    "                        bot_databanda.send_photo(\n",
    "                            chat_id=call.message.chat.id,\n",
    "                            photo=photo,\n",
    "                            caption=message_text,\n",
    "                            parse_mode='Markdown'\n",
    "                        )\n",
    "                else:\n",
    "                    bot_databanda.send_message(\n",
    "                        chat_id=call.message.chat.id,\n",
    "                        text=message_text,\n",
    "                        parse_mode='Markdown'\n",
    "                    )\n",
    "    else:\n",
    "        cotizacion = get_cotizacion(call.data)\n",
    "        bot_databanda.edit_message_text(chat_id=call.message.chat.id,\n",
    "                                        message_id=call.message.message_id,\n",
    "                                        text=cotizacion)\n",
    "\n",
    "\n",
    "# Nuevo comando para mostrar el menú de acciones\n",
    "@bot_databanda.message_handler(commands=['acciones'])\n",
    "def cmd_acciones(message):\n",
    "    markup = create_stocks_markup()\n",
    "    bot_databanda.send_message(message.chat.id, \"Selecciona la acción que quieras ver:\", reply_markup=markup)\n",
    "\n"
   ]
  },
  {
   "cell_type": "markdown",
   "id": "8a23f8c8",
   "metadata": {},
   "source": [
    "## Lanzar el programa /bot"
   ]
  },
  {
   "cell_type": "code",
   "execution_count": null,
   "id": "652343c2",
   "metadata": {},
   "outputs": [
    {
     "name": "stdout",
     "output_type": "stream",
     "text": [
      "Iniciando el bot...\n"
     ]
    }
   ],
   "source": [
    "if __name__ == \"__main__\":\n",
    "    print(\"Iniciando el bot...\")\n",
    "\n",
    "    # Seteamos los comandos de nuevo ...\n",
    "    bot_databanda.set_my_commands([\n",
    "        telebot.types.BotCommand(\"/start\", \"Iniciar el bot\"),\n",
    "        telebot.types.BotCommand(\"/help\", \"Mostrar ayuda\"),\n",
    "        telebot.types.BotCommand(\"/balance\", \"Consultar tu saldo\"),\n",
    "        telebot.types.BotCommand(\"/ingresar\", \"Realizar un ingreso\"),\n",
    "        telebot.types.BotCommand(\"/gasto\", \"Registrar un gasto\"),\n",
    "        telebot.types.BotCommand(\"/cotizaciones\", \"Consultar cotizaciones\"),\n",
    "        telebot.types.BotCommand(\"/acciones\", \"Consultar acciones\"),\n",
    "        telebot.types.BotCommand(\"/fin\", \"Finalizar la conversación\"),\n",
    "        \n",
    "    ])\n",
    "\n",
    "    bot_databanda.infinity_polling() # bucle infinito para recibir mensajes (while true)\n",
    "\n",
    "    print(\"Fin = Bot Detenido\")\n",
    "\n",
    "\n",
    "    "
   ]
  }
 ],
 "metadata": {
  "kernelspec": {
   "display_name": "venv",
   "language": "python",
   "name": "python3"
  },
  "language_info": {
   "codemirror_mode": {
    "name": "ipython",
    "version": 3
   },
   "file_extension": ".py",
   "mimetype": "text/x-python",
   "name": "python",
   "nbconvert_exporter": "python",
   "pygments_lexer": "ipython3",
   "version": "3.11.4"
  }
 },
 "nbformat": 4,
 "nbformat_minor": 5
}
